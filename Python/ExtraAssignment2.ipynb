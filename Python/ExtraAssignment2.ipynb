{
 "cells": [
  {
   "cell_type": "markdown",
   "id": "26ac0392-026f-4f25-a53c-ff3fcdd91009",
   "metadata": {},
   "source": [
    "#print 0 to 20 by using range"
   ]
  },
  {
   "cell_type": "code",
   "execution_count": 3,
   "id": "50b935d1-004c-4f07-810f-17b153df9af3",
   "metadata": {},
   "outputs": [
    {
     "name": "stdout",
     "output_type": "stream",
     "text": [
      "0\n",
      "1\n",
      "2\n",
      "3\n",
      "4\n",
      "5\n",
      "6\n",
      "7\n",
      "8\n",
      "9\n",
      "10\n",
      "11\n",
      "12\n",
      "13\n",
      "14\n",
      "15\n",
      "16\n",
      "17\n",
      "18\n",
      "19\n"
     ]
    }
   ],
   "source": [
    "for tempvar in range(0,20):\n",
    "    print(tempvar)"
   ]
  },
  {
   "cell_type": "markdown",
   "id": "556c434d-1c62-48ea-965e-0b5f805d0442",
   "metadata": {},
   "source": [
    "#print range 10 to 20"
   ]
  },
  {
   "cell_type": "code",
   "execution_count": 5,
   "id": "d2df214f-8f66-4357-ba38-b1630e649020",
   "metadata": {},
   "outputs": [
    {
     "name": "stdout",
     "output_type": "stream",
     "text": [
      "10 11 12 13 14 15 16 17 18 19 "
     ]
    }
   ],
   "source": [
    "for tempVar in range(10, 20):\n",
    "    print(tempVar, end = \" \")"
   ]
  },
  {
   "cell_type": "markdown",
   "id": "f0035ee4-4f53-44ac-8f73-5aad7409ed67",
   "metadata": {},
   "source": [
    "#print number of items in the list by using 'len'"
   ]
  },
  {
   "cell_type": "code",
   "execution_count": 15,
   "id": "a241a1e9-6e55-4140-b19a-a74d0cb47b71",
   "metadata": {},
   "outputs": [
    {
     "name": "stdout",
     "output_type": "stream",
     "text": [
      "[10, 20, 14, 55, 43, 87, 76]\n",
      "Number of item in the List2:\n",
      " 7\n"
     ]
    }
   ],
   "source": [
    "List2 = [10, 20, 14, 55, 43, 87, 76]\n",
    "print(List2)\n",
    "print(\"Number of item in the List2:\\n\",len(List2))"
   ]
  },
  {
   "cell_type": "code",
   "execution_count": 21,
   "id": "78321b12-76f5-4ae7-98e6-bd59bcd5f3d4",
   "metadata": {},
   "outputs": [
    {
     "name": "stdout",
     "output_type": "stream",
     "text": [
      "Artificial Intelligence\n",
      "A\n",
      "r\n",
      "t\n",
      "i\n",
      "f\n",
      "i\n",
      "c\n",
      "i\n",
      "a\n",
      "l\n",
      " \n",
      "I\n",
      "n\n",
      "t\n",
      "e\n",
      "l\n",
      "l\n",
      "i\n",
      "g\n",
      "e\n",
      "n\n",
      "c\n",
      "e\n"
     ]
    }
   ],
   "source": [
    "inpStr = \"Artificial Intelligence\"\n",
    "print(inpStr)\n",
    "for tempVar in inpStr:\n",
    "    print(tempVar)"
   ]
  },
  {
   "cell_type": "code",
   "execution_count": 49,
   "id": "c9e4df0d-1b80-4359-9b4e-0349c93ced59",
   "metadata": {},
   "outputs": [
    {
     "name": "stdout",
     "output_type": "stream",
     "text": [
      "-Your Name-\n",
      "-Your Age-\n",
      "-Your Profession-\n"
     ]
    }
   ],
   "source": [
    "details = [\"Your Name\",\"Your Age\",\"Your Profession\"]\n",
    "\n",
    "for detail in details:\n",
    "    print(f\"-{detail}-\")"
   ]
  },
  {
   "cell_type": "markdown",
   "id": "7eee012e-3f1e-4408-af89-1e1c9b48d3ac",
   "metadata": {},
   "source": [
    "#print the mixed datatype using tuple"
   ]
  },
  {
   "cell_type": "code",
   "execution_count": 31,
   "id": "8458c301-ac9e-45b2-8b53-93c0df3eb75a",
   "metadata": {},
   "outputs": [
    {
     "name": "stdout",
     "output_type": "stream",
     "text": [
      "(1, 'Welcome', 2, 'Hope')\n"
     ]
    }
   ],
   "source": [
    "tupleVar = (1, 'Welcome', 2, 'Hope')\n",
    "print(tupleVar)"
   ]
  },
  {
   "cell_type": "code",
   "execution_count": 41,
   "id": "94ad3d1a-b638-4d1c-9e39-307d55163034",
   "metadata": {},
   "outputs": [
    {
     "name": "stdout",
     "output_type": "stream",
     "text": [
      "((0, 1, 2, 3), ('python', 'HOPE'))\n"
     ]
    }
   ],
   "source": [
    "Tuple1 = (0, 1, 2, 3)\n",
    "Tuple2 = ('python', 'HOPE')\n",
    "Tuple3 = (Tuple1 , Tuple2)\n",
    "print(Tuple3)"
   ]
  },
  {
   "cell_type": "markdown",
   "id": "0cc170cb-0884-4fcd-8d2c-70f7c53e39d7",
   "metadata": {},
   "source": [
    "#print Odd numbers in the tuple"
   ]
  },
  {
   "cell_type": "code",
   "execution_count": 45,
   "id": "947e920b-1d52-405f-a93d-965b6ba44cee",
   "metadata": {},
   "outputs": [
    {
     "name": "stdout",
     "output_type": "stream",
     "text": [
      "19 is Odd\n",
      "25 is Odd\n",
      "1 is Odd\n"
     ]
    }
   ],
   "source": [
    "TupleVar = (20,10,16,19,25,1,276,188)\n",
    "for tempVar in TupleVar:\n",
    "    if (tempVar%2 != 0):\n",
    "        print(f\"{tempVar} is Odd\")\n"
   ]
  },
  {
   "cell_type": "markdown",
   "id": "edafa05d-707f-4c4c-a6b5-30bdbe27a07c",
   "metadata": {},
   "source": [
    "#print Even numbers in the tuple"
   ]
  },
  {
   "cell_type": "code",
   "execution_count": 47,
   "id": "4e43ccdb-e970-42e7-b7b7-bb53132b36e8",
   "metadata": {},
   "outputs": [
    {
     "name": "stdout",
     "output_type": "stream",
     "text": [
      "20 is Even\n",
      "10 is Even\n",
      "16 is Even\n",
      "276 is Even\n",
      "188 is Even\n"
     ]
    }
   ],
   "source": [
    "TupleVar = (20,10,16,19,25,1,276,188)\n",
    "for tempVar in TupleVar:\n",
    "    if (tempVar%2 == 0):\n",
    "        print(f\"{tempVar} is Even\")"
   ]
  },
  {
   "cell_type": "code",
   "execution_count": null,
   "id": "482b783a-cc31-43c7-be2d-ab9b6a7f7a58",
   "metadata": {},
   "outputs": [],
   "source": []
  }
 ],
 "metadata": {
  "kernelspec": {
   "display_name": "Python 3 (ipykernel)",
   "language": "python",
   "name": "python3"
  },
  "language_info": {
   "codemirror_mode": {
    "name": "ipython",
    "version": 3
   },
   "file_extension": ".py",
   "mimetype": "text/x-python",
   "name": "python",
   "nbconvert_exporter": "python",
   "pygments_lexer": "ipython3",
   "version": "3.12.4"
  }
 },
 "nbformat": 4,
 "nbformat_minor": 5
}
