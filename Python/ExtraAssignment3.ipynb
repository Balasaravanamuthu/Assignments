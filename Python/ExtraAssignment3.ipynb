{
 "cells": [
  {
   "cell_type": "markdown",
   "id": "496ba75e-2907-4766-a771-eb7f11dab555",
   "metadata": {},
   "source": [
    "#print 'CORRECT' if i==10"
   ]
  },
  {
   "cell_type": "code",
   "execution_count": 39,
   "id": "ab4cbdc8-7422-46d0-826e-439c7a29c091",
   "metadata": {},
   "outputs": [
    {
     "name": "stdin",
     "output_type": "stream",
     "text": [
      " ········\n"
     ]
    },
    {
     "name": "stdout",
     "output_type": "stream",
     "text": [
      "value: 10\n",
      "Correct\n"
     ]
    }
   ],
   "source": [
    "import getpass\n",
    "\n",
    "i = int(getpass.getpass())\n",
    "if (i==10):\n",
    "    print(\"value:\",i)\n",
    "    print(\"Correct\")\n",
    "else:\n",
    "    print(\"value:\",i)\n",
    "    print(\"Not Correct\")\n",
    "    "
   ]
  },
  {
   "cell_type": "markdown",
   "id": "63f32744-f208-4044-83e4-b160b2a9bf79",
   "metadata": {},
   "source": [
    "#check the password"
   ]
  },
  {
   "cell_type": "code",
   "execution_count": 41,
   "id": "3db0e1b9-394e-4568-a904-0a20e32511e7",
   "metadata": {},
   "outputs": [
    {
     "name": "stdin",
     "output_type": "stream",
     "text": [
      "Enter the password: HOPE@123\n"
     ]
    },
    {
     "name": "stdout",
     "output_type": "stream",
     "text": [
      "Your password is correct\n"
     ]
    }
   ],
   "source": [
    "password = input(\"Enter the password:\")\n",
    "if password == \"HOPE@123\":\n",
    "    print(\"Your password is correct\")\n",
    "else:\n",
    "    print(\"Your password is not correct\")\n"
   ]
  },
  {
   "cell_type": "markdown",
   "id": "32264c16-d4be-4ce6-ba75-db6743643c35",
   "metadata": {},
   "source": [
    "#Category the people by their age"
   ]
  },
  {
   "cell_type": "code",
   "execution_count": 25,
   "id": "fe5c822d-3147-45b7-be88-01fb9d7e879e",
   "metadata": {},
   "outputs": [
    {
     "name": "stdin",
     "output_type": "stream",
     "text": [
      "age: 20\n"
     ]
    },
    {
     "name": "stdout",
     "output_type": "stream",
     "text": [
      "Adult\n"
     ]
    }
   ],
   "source": [
    "age = int(input(\"age:\"))\n",
    "if age < 0:\n",
    "    print(\"Invalid Age\")\n",
    "elif age < 18:\n",
    "    print(\"Child\")\n",
    "elif age < 40:\n",
    "    print(\"Adult\")\n",
    "elif age < 60:\n",
    "    print(\"Citizen\")\n",
    "else:\n",
    "    print(\"Senior Citizen\")\n"
   ]
  },
  {
   "cell_type": "markdown",
   "id": "d667eab4-2073-4267-885d-00bc9c7ed9f9",
   "metadata": {},
   "source": [
    "#Find whether given number is positive or negative"
   ]
  },
  {
   "cell_type": "code",
   "execution_count": 33,
   "id": "fd60fa2b-d327-4953-8a25-4ff68538a33a",
   "metadata": {},
   "outputs": [
    {
     "name": "stdin",
     "output_type": "stream",
     "text": [
      "Enter any number: 1\n"
     ]
    },
    {
     "name": "stdout",
     "output_type": "stream",
     "text": [
      "NO. is postive\n"
     ]
    }
   ],
   "source": [
    "inpNum = int(input(\"Enter any number:\"))\n",
    "if inpNum >= 0:\n",
    "    print(\"NO. is postive\")"
   ]
  },
  {
   "cell_type": "markdown",
   "id": "96eb0a79-f701-43fb-9b7e-c534ba1a11e6",
   "metadata": {},
   "source": [
    "#Check whether the given number is divisible by 5"
   ]
  },
  {
   "cell_type": "code",
   "execution_count": 37,
   "id": "3a96b1db-fa17-4eef-9a51-2633addd2063",
   "metadata": {},
   "outputs": [
    {
     "name": "stdin",
     "output_type": "stream",
     "text": [
      "Enter a number to check: 22\n"
     ]
    },
    {
     "name": "stdout",
     "output_type": "stream",
     "text": [
      "NO. is not divisible by 5\n"
     ]
    }
   ],
   "source": [
    "inpNum = int(input(\"Enter a number to check:\"))\n",
    "if inpNum%5 != 0:\n",
    "    print(\"NO. is not divisible by 5\")"
   ]
  },
  {
   "cell_type": "code",
   "execution_count": null,
   "id": "b2c4da8b-361e-430b-98de-1f0bc3d8a632",
   "metadata": {},
   "outputs": [],
   "source": []
  }
 ],
 "metadata": {
  "kernelspec": {
   "display_name": "Python 3 (ipykernel)",
   "language": "python",
   "name": "python3"
  },
  "language_info": {
   "codemirror_mode": {
    "name": "ipython",
    "version": 3
   },
   "file_extension": ".py",
   "mimetype": "text/x-python",
   "name": "python",
   "nbconvert_exporter": "python",
   "pygments_lexer": "ipython3",
   "version": "3.12.4"
  }
 },
 "nbformat": 4,
 "nbformat_minor": 5
}
