{
 "cells": [
  {
   "cell_type": "markdown",
   "id": "0d550681-14b2-464e-b26b-17c55ae32cbe",
   "metadata": {},
   "source": [
    "#print statement"
   ]
  },
  {
   "cell_type": "code",
   "execution_count": 3,
   "id": "cac93231-77fa-41e2-a5d5-a546a4113e43",
   "metadata": {},
   "outputs": [
    {
     "name": "stdout",
     "output_type": "stream",
     "text": [
      "HOPE AI\n"
     ]
    }
   ],
   "source": [
    "print(\"HOPE AI\")"
   ]
  },
  {
   "cell_type": "markdown",
   "id": "08322dd4-27cc-4d4b-8aae-16dc28aa1318",
   "metadata": {},
   "source": [
    "#Buy Input"
   ]
  },
  {
   "cell_type": "code",
   "execution_count": 51,
   "id": "78a80fa5-85cd-4a42-9680-77cb261c270e",
   "metadata": {},
   "outputs": [
    {
     "name": "stdin",
     "output_type": "stream",
     "text": [
      "Enter your institute Name? : ········\n"
     ]
    },
    {
     "name": "stdout",
     "output_type": "stream",
     "text": [
      "HOPE  AI\n"
     ]
    }
   ],
   "source": [
    "import getpass\n",
    "\n",
    "InstituteName = getpass.getpass(\"Enter your institute Name? :\").upper()\n",
    "print(InstituteName)"
   ]
  },
  {
   "cell_type": "markdown",
   "id": "717333d1-e5ed-4c4c-a501-869108f67de0",
   "metadata": {},
   "source": [
    "#Buy Input"
   ]
  },
  {
   "cell_type": "code",
   "execution_count": 13,
   "id": "51b267ce-dcb8-447b-af06-2405e7d088eb",
   "metadata": {},
   "outputs": [
    {
     "name": "stdin",
     "output_type": "stream",
     "text": [
      "Enter your name: Raj\n",
      "Enter your age: 15\n",
      "Enter your school name: Guru school\n",
      "Enter your degree: B.E CSE\n"
     ]
    }
   ],
   "source": [
    "Name = input(\"Enter your name:\")\n",
    "Age = int(input(\"Enter your age:\"))\n",
    "School = input(\"Enter your school name:\")\n",
    "Degree = input(\"Enter your degree:\")\n"
   ]
  },
  {
   "cell_type": "markdown",
   "id": "99d0c149-fc6f-4363-9594-aa12a46d31ed",
   "metadata": {},
   "source": [
    "#Addition"
   ]
  },
  {
   "cell_type": "code",
   "execution_count": 17,
   "id": "433e3ab6-087a-49f8-bc69-80b3c7122766",
   "metadata": {},
   "outputs": [
    {
     "name": "stdin",
     "output_type": "stream",
     "text": [
      "a= 43\n",
      "b= 34\n"
     ]
    },
    {
     "name": "stdout",
     "output_type": "stream",
     "text": [
      "add = 77\n"
     ]
    }
   ],
   "source": [
    "a = int(input(\"a=\"))\n",
    "b = int(input(\"b=\"))\n",
    "add = a + b\n",
    "print(\"add =\", add)"
   ]
  },
  {
   "cell_type": "markdown",
   "id": "de9e9871-8146-402a-8aef-8c27f33cb1b2",
   "metadata": {},
   "source": [
    "#Subtraction"
   ]
  },
  {
   "cell_type": "code",
   "execution_count": 19,
   "id": "2ce85751-1ce4-40b4-82bc-02bb33de3f21",
   "metadata": {},
   "outputs": [
    {
     "name": "stdin",
     "output_type": "stream",
     "text": [
      "a= 43\n",
      "b= 34\n"
     ]
    },
    {
     "name": "stdout",
     "output_type": "stream",
     "text": [
      "Sub = 9\n"
     ]
    }
   ],
   "source": [
    "a = int(input(\"a=\"))\n",
    "b = int(input(\"b=\"))\n",
    "sub = a - b\n",
    "print(\"Sub =\", sub)"
   ]
  },
  {
   "cell_type": "markdown",
   "id": "45274dcb-8370-4a71-9b5d-02bd3be09ce5",
   "metadata": {},
   "source": [
    "#Multiplication"
   ]
  },
  {
   "cell_type": "code",
   "execution_count": 21,
   "id": "83bde2e3-6996-4c46-8f01-49b8b3dc9509",
   "metadata": {},
   "outputs": [
    {
     "name": "stdin",
     "output_type": "stream",
     "text": [
      "a= 63\n",
      "b= 97\n"
     ]
    },
    {
     "name": "stdout",
     "output_type": "stream",
     "text": [
      "Mul = 6111\n"
     ]
    }
   ],
   "source": [
    "a = int(input(\"a=\"))\n",
    "b = int(input(\"b=\"))\n",
    "mul = a * b\n",
    "print(\"Mul =\", mul)"
   ]
  },
  {
   "cell_type": "markdown",
   "id": "939f53b5-8604-4e68-95a2-b97f72bca63b",
   "metadata": {},
   "source": [
    "#Division"
   ]
  },
  {
   "cell_type": "code",
   "execution_count": 37,
   "id": "b01a6be2-1cde-400a-a7aa-7cc993fb27a1",
   "metadata": {},
   "outputs": [
    {
     "name": "stdin",
     "output_type": "stream",
     "text": [
      "a= 76\n",
      "b= 31\n"
     ]
    },
    {
     "name": "stdout",
     "output_type": "stream",
     "text": [
      "float Div = 2.4516129032258065\n"
     ]
    }
   ],
   "source": [
    "a = int(input(\"a=\"))\n",
    "b = int(input(\"b=\"))\n",
    "div = a / b\n",
    "print (f\"{type(div).__name__} Div =\", div)"
   ]
  },
  {
   "cell_type": "markdown",
   "id": "dfe6aea2-0901-4784-ad68-021dc14bb5d5",
   "metadata": {},
   "source": [
    "#FloorDivision"
   ]
  },
  {
   "cell_type": "code",
   "execution_count": 41,
   "id": "236e3b86-c6ab-4871-aebe-9ad24318b4c2",
   "metadata": {},
   "outputs": [
    {
     "name": "stdin",
     "output_type": "stream",
     "text": [
      "a= 76\n",
      "b= 31\n"
     ]
    },
    {
     "name": "stdout",
     "output_type": "stream",
     "text": [
      "Floor Div = 2\n"
     ]
    }
   ],
   "source": [
    "a = int(input(\"a=\"))\n",
    "b = int(input(\"b=\"))\n",
    "div = a // b\n",
    "print (f\"Floor Div =\", div)"
   ]
  },
  {
   "cell_type": "markdown",
   "id": "7033a76b-a1ce-4c60-896f-28306ad29db9",
   "metadata": {},
   "source": [
    "#Modulo"
   ]
  },
  {
   "cell_type": "code",
   "execution_count": 45,
   "id": "98a8bf6a-8776-48d9-97cc-08fb916d374c",
   "metadata": {},
   "outputs": [
    {
     "name": "stdin",
     "output_type": "stream",
     "text": [
      "a= 76\n",
      "b= 31\n"
     ]
    },
    {
     "name": "stdout",
     "output_type": "stream",
     "text": [
      "Modulo = 14\n"
     ]
    }
   ],
   "source": [
    "a = int(input(\"a=\"))\n",
    "b = int(input(\"b=\"))\n",
    "modulo = a % b\n",
    "print (\"Modulo =\", modulo)"
   ]
  },
  {
   "cell_type": "markdown",
   "id": "6676e8ea-acb2-4162-8b07-33429b1b63ad",
   "metadata": {},
   "source": [
    "#Power"
   ]
  },
  {
   "cell_type": "code",
   "execution_count": 49,
   "id": "8d5771db-b871-404c-b0ff-7ced60217b03",
   "metadata": {},
   "outputs": [
    {
     "name": "stdin",
     "output_type": "stream",
     "text": [
      "a= 4\n",
      "b= 4\n"
     ]
    },
    {
     "name": "stdout",
     "output_type": "stream",
     "text": [
      "Power = 256\n"
     ]
    }
   ],
   "source": [
    "a = int(input(\"a=\"))\n",
    "b = int(input(\"b=\"))\n",
    "power = a ** b\n",
    "print (\"Power =\", power)"
   ]
  },
  {
   "cell_type": "code",
   "execution_count": null,
   "id": "3823c2f5-c9e8-482f-8734-806697ff4f0a",
   "metadata": {},
   "outputs": [],
   "source": []
  }
 ],
 "metadata": {
  "kernelspec": {
   "display_name": "Python 3 (ipykernel)",
   "language": "python",
   "name": "python3"
  },
  "language_info": {
   "codemirror_mode": {
    "name": "ipython",
    "version": 3
   },
   "file_extension": ".py",
   "mimetype": "text/x-python",
   "name": "python",
   "nbconvert_exporter": "python",
   "pygments_lexer": "ipython3",
   "version": "3.12.4"
  }
 },
 "nbformat": 4,
 "nbformat_minor": 5
}
