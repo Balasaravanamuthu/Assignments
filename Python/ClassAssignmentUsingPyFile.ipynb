{
 "cells": [
  {
   "cell_type": "code",
   "execution_count": 61,
   "id": "ec05d18a-85d2-4130-ad0e-a8d7e4b0c0a0",
   "metadata": {},
   "outputs": [],
   "source": [
    "import importlib\n",
    "import multiple_classes\n",
    "importlib.reload(multiple_classes)  # Force reload the updated file\n",
    "\n",
    "from multiple_classes import SubfieldsInAI\n",
    "from multiple_classes import OddEven\n",
    "from multiple_classes import ElegiblityForMarriage\n",
    "from multiple_classes import FindPercent\n",
    "from multiple_classes import triangle\n"
   ]
  },
  {
   "cell_type": "markdown",
   "id": "88ce7229-cb0b-46be-a5f3-e23455cc06f8",
   "metadata": {},
   "source": [
    "#Create a class and function and list out the items in the list"
   ]
  },
  {
   "cell_type": "code",
   "execution_count": 63,
   "id": "e4eb27ec-0824-42ff-862b-83724bd9b84b",
   "metadata": {},
   "outputs": [
    {
     "name": "stdout",
     "output_type": "stream",
     "text": [
      "Machine Learning\n",
      "Neural Networks\n",
      "Vision\n",
      "Robotics\n",
      "Speech Processing\n",
      "Natural Language Processing\n"
     ]
    }
   ],
   "source": [
    "SubfieldsInAI.Subfields()"
   ]
  },
  {
   "cell_type": "markdown",
   "id": "e7b4d684-9b8b-440e-8bd4-19ff2e07b8ad",
   "metadata": {},
   "source": [
    "#Create a function that checks whether the given number is Odd or Even"
   ]
  },
  {
   "cell_type": "code",
   "execution_count": 65,
   "id": "f24f5805-ff10-45f3-b048-032db5c823b9",
   "metadata": {},
   "outputs": [
    {
     "name": "stdin",
     "output_type": "stream",
     "text": [
      "Enter a number:  54252\n"
     ]
    },
    {
     "name": "stdout",
     "output_type": "stream",
     "text": [
      "54252 is Even number\n"
     ]
    }
   ],
   "source": [
    "OddEven.OddEven()"
   ]
  },
  {
   "cell_type": "markdown",
   "id": "25f9038d-682b-43a9-9c03-6f1c9c650755",
   "metadata": {},
   "source": [
    "#Create a function that tells elegibility of marriage for male and female"
   ]
  },
  {
   "cell_type": "code",
   "execution_count": 67,
   "id": "04c268c2-1700-4c0d-800e-695ecb03b07f",
   "metadata": {},
   "outputs": [
    {
     "name": "stdin",
     "output_type": "stream",
     "text": [
      "Your Gender: Male\n",
      "Your Age: 20\n"
     ]
    },
    {
     "name": "stdout",
     "output_type": "stream",
     "text": [
      "NOT ELIGIBLE\n"
     ]
    }
   ],
   "source": [
    "ElegiblityForMarriage.Elegible()"
   ]
  },
  {
   "cell_type": "markdown",
   "id": "83893ea1-30d0-4647-8f84-b29802a8f21d",
   "metadata": {},
   "source": [
    "#calculate the percentage of your 10th mark"
   ]
  },
  {
   "cell_type": "code",
   "execution_count": 69,
   "id": "fb4aca7f-82ed-4a35-9ff8-f01b0a37e428",
   "metadata": {},
   "outputs": [
    {
     "name": "stdin",
     "output_type": "stream",
     "text": [
      "Subject1= 98\n",
      "Subject2= 87\n",
      "Subject3= 95\n",
      "Subject4= 95\n",
      "Subject5= 93\n"
     ]
    },
    {
     "name": "stdout",
     "output_type": "stream",
     "text": [
      "Total : 468\n",
      "Percentage : 93.60000000000001\n"
     ]
    }
   ],
   "source": [
    "FindPercent.percentage()"
   ]
  },
  {
   "cell_type": "markdown",
   "id": "e3adb7cb-38fe-4996-86d1-57fc75202d87",
   "metadata": {},
   "source": [
    "#print area and perimeter of triangle using class and function"
   ]
  },
  {
   "cell_type": "code",
   "execution_count": 71,
   "id": "24c85670-5e60-45c2-b2b9-34d4a0fae115",
   "metadata": {},
   "outputs": [
    {
     "name": "stdin",
     "output_type": "stream",
     "text": [
      "Height: 32\n",
      "Breadth: 34\n"
     ]
    },
    {
     "name": "stdout",
     "output_type": "stream",
     "text": [
      "Area formula: (Height*Breadth)/2\n",
      "Area of Triangle: 544.0\n"
     ]
    },
    {
     "name": "stdin",
     "output_type": "stream",
     "text": [
      "Height1: 2\n",
      "Height2: 4\n",
      "Breadth: 4\n"
     ]
    },
    {
     "name": "stdout",
     "output_type": "stream",
     "text": [
      "Perimeter formula: Height1+Height2+Breadth\n",
      "Perimeter of Triangle: 10\n"
     ]
    }
   ],
   "source": [
    "triangle.triangle()"
   ]
  },
  {
   "cell_type": "code",
   "execution_count": null,
   "id": "d2ca28ca-4a51-4c8a-b151-f26fb43bbb86",
   "metadata": {},
   "outputs": [],
   "source": []
  }
 ],
 "metadata": {
  "kernelspec": {
   "display_name": "Python 3 (ipykernel)",
   "language": "python",
   "name": "python3"
  },
  "language_info": {
   "codemirror_mode": {
    "name": "ipython",
    "version": 3
   },
   "file_extension": ".py",
   "mimetype": "text/x-python",
   "name": "python",
   "nbconvert_exporter": "python",
   "pygments_lexer": "ipython3",
   "version": "3.12.4"
  }
 },
 "nbformat": 4,
 "nbformat_minor": 5
}
