{
 "cells": [
  {
   "cell_type": "markdown",
   "id": "c1407374-f23d-4e84-a4bf-5d19fd00d8c2",
   "metadata": {},
   "source": [
    "#Create a function and list out the items in the list"
   ]
  },
  {
   "cell_type": "code",
   "execution_count": 1,
   "id": "1bedd75d-9ec3-41aa-b298-b09f19855279",
   "metadata": {},
   "outputs": [],
   "source": [
    "def Subfields():\n",
    "    subfields = [\"Machine Learning\",\"Neural Networks\",\"Vision\",\"Robotics\",\"Speech Processing\",\"Natural Language Processing\"]\n",
    "\n",
    "    for fields in subfields:\n",
    "        print(fields)\n"
   ]
  },
  {
   "cell_type": "code",
   "execution_count": 3,
   "id": "ec05d18a-85d2-4130-ad0e-a8d7e4b0c0a0",
   "metadata": {},
   "outputs": [
    {
     "name": "stdout",
     "output_type": "stream",
     "text": [
      "Machine Learning\n",
      "Neural Networks\n",
      "Vision\n",
      "Robotics\n",
      "Speech Processing\n",
      "Natural Language Processing\n"
     ]
    }
   ],
   "source": [
    "Subfields()"
   ]
  },
  {
   "cell_type": "markdown",
   "id": "e7b4d684-9b8b-440e-8bd4-19ff2e07b8ad",
   "metadata": {},
   "source": [
    "#Create a function that checks whether the given number is Odd or Even"
   ]
  },
  {
   "cell_type": "code",
   "execution_count": 5,
   "id": "1e4b092d-6b70-49e7-b12a-f5156afc2688",
   "metadata": {},
   "outputs": [],
   "source": [
    "def OddEven():\n",
    "    inpnum = int(input(\"Enter a number:\"))\n",
    "    if (inpnum%2 == 0):\n",
    "        print(f\"{inpnum} is Even number\")\n",
    "    else:\n",
    "        print(f\"{inpnum} is Odd number\")\n",
    "    "
   ]
  },
  {
   "cell_type": "code",
   "execution_count": 7,
   "id": "f24f5805-ff10-45f3-b048-032db5c823b9",
   "metadata": {},
   "outputs": [
    {
     "name": "stdin",
     "output_type": "stream",
     "text": [
      "Enter a number: 52452\n"
     ]
    },
    {
     "name": "stdout",
     "output_type": "stream",
     "text": [
      "52452 is Even number\n"
     ]
    }
   ],
   "source": [
    "OddEven()"
   ]
  },
  {
   "cell_type": "markdown",
   "id": "25f9038d-682b-43a9-9c03-6f1c9c650755",
   "metadata": {},
   "source": [
    "#Create a function that tells elegibility of marriage for male and female"
   ]
  },
  {
   "cell_type": "code",
   "execution_count": 23,
   "id": "8dd945e2-7452-4a32-9438-e28f263f2174",
   "metadata": {},
   "outputs": [],
   "source": [
    "def Elegible():\n",
    "    Gender = input(\"Your Gender:\")\n",
    "    Age = int(input(\"Your Age:\"))\n",
    "    if (Gender == \"Male\" and Age<21 ) or (Gender == \"Female\" and Age<18 ):\n",
    "        print(\"NOT ELIGIBLE\")\n",
    "    else:\n",
    "        print(\"ELIGIBLE\")  \n",
    "              \n"
   ]
  },
  {
   "cell_type": "code",
   "execution_count": 25,
   "id": "04c268c2-1700-4c0d-800e-695ecb03b07f",
   "metadata": {},
   "outputs": [
    {
     "name": "stdin",
     "output_type": "stream",
     "text": [
      "Your Gender: Male\n",
      "Your Age: 20\n"
     ]
    },
    {
     "name": "stdout",
     "output_type": "stream",
     "text": [
      "NOT ELIGIBLE\n"
     ]
    }
   ],
   "source": [
    "Elegible()"
   ]
  },
  {
   "cell_type": "markdown",
   "id": "83893ea1-30d0-4647-8f84-b29802a8f21d",
   "metadata": {},
   "source": [
    "#calculate the percentage of your 10th mark"
   ]
  },
  {
   "cell_type": "code",
   "execution_count": 31,
   "id": "c288d457-1e55-47f0-886e-f2f4e2e62812",
   "metadata": {},
   "outputs": [],
   "source": [
    "def percentage():\n",
    "    Subject1 = int(input(\"Subject1=\"))\n",
    "    Subject2 = int(input(\"Subject2=\"))\n",
    "    Subject3 = int(input(\"Subject3=\"))\n",
    "    Subject4 = int(input(\"Subject4=\"))\n",
    "    Subject5 = int(input(\"Subject5=\"))\n",
    "    Total = Subject1 + Subject2 + Subject3 + Subject4 + Subject5\n",
    "    Percentage = (Total / (5*100)) * 100    \n",
    "    print(\"Total :\", Total)\n",
    "    print(\"Percentage :\", Percentage)                  \n",
    "\n"
   ]
  },
  {
   "cell_type": "code",
   "execution_count": 33,
   "id": "fb4aca7f-82ed-4a35-9ff8-f01b0a37e428",
   "metadata": {},
   "outputs": [
    {
     "name": "stdin",
     "output_type": "stream",
     "text": [
      "Subject1= 98\n",
      "Subject2= 87\n",
      "Subject3= 95\n",
      "Subject4= 95\n",
      "Subject5= 93\n"
     ]
    },
    {
     "name": "stdout",
     "output_type": "stream",
     "text": [
      "Total : 468\n",
      "Percentage : 93.60000000000001\n"
     ]
    }
   ],
   "source": [
    "percentage()"
   ]
  },
  {
   "cell_type": "markdown",
   "id": "e3adb7cb-38fe-4996-86d1-57fc75202d87",
   "metadata": {},
   "source": [
    "#print area and perimeter of triangle"
   ]
  },
  {
   "cell_type": "code",
   "execution_count": 35,
   "id": "409ea9b4-3c9a-4812-8d63-bb4db86e12e1",
   "metadata": {},
   "outputs": [],
   "source": [
    "def triangle():\n",
    "    Height = int(input(\"Height:\"))\n",
    "    Breadth = int(input(\"Breadth:\"))\n",
    "    print(\"Area formula: (Height*Breadth)/2\")\n",
    "    print(\"Area of Triangle:\", (Height*Breadth)/2)\n",
    "\n",
    "    Height1 = int(input(\"Height1:\"))\n",
    "    Height2 = int(input(\"Height2:\"))\n",
    "    Breadth = int(input(\"Breadth:\"))\n",
    "    print(\"Perimeter formula: Height1+Height2+Breadth\")\n",
    "    print(\"Perimeter of Triangle:\", Height1+Height2+Breadth)   \n",
    "   "
   ]
  },
  {
   "cell_type": "code",
   "execution_count": 37,
   "id": "24c85670-5e60-45c2-b2b9-34d4a0fae115",
   "metadata": {},
   "outputs": [
    {
     "name": "stdin",
     "output_type": "stream",
     "text": [
      "Height: 32\n",
      "Breadth: 34\n"
     ]
    },
    {
     "name": "stdout",
     "output_type": "stream",
     "text": [
      "Area formula: (Height*Breadth)/2\n",
      "Area of Triangle: 544.0\n"
     ]
    },
    {
     "name": "stdin",
     "output_type": "stream",
     "text": [
      "Height1: 2\n",
      "Height2: 4\n",
      "Breadth: 4\n"
     ]
    },
    {
     "name": "stdout",
     "output_type": "stream",
     "text": [
      "Perimeter formula: Height1+Height2+Breadth\n",
      "Perimeter of Triangle: 10\n"
     ]
    }
   ],
   "source": [
    "triangle()"
   ]
  },
  {
   "cell_type": "code",
   "execution_count": null,
   "id": "d2ca28ca-4a51-4c8a-b151-f26fb43bbb86",
   "metadata": {},
   "outputs": [],
   "source": []
  }
 ],
 "metadata": {
  "kernelspec": {
   "display_name": "Python 3 (ipykernel)",
   "language": "python",
   "name": "python3"
  },
  "language_info": {
   "codemirror_mode": {
    "name": "ipython",
    "version": 3
   },
   "file_extension": ".py",
   "mimetype": "text/x-python",
   "name": "python",
   "nbconvert_exporter": "python",
   "pygments_lexer": "ipython3",
   "version": "3.12.4"
  }
 },
 "nbformat": 4,
 "nbformat_minor": 5
}
