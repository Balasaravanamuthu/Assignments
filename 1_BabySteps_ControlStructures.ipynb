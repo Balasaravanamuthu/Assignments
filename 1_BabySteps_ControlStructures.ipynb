{
 "cells": [
  {
   "cell_type": "markdown",
   "id": "9273103c-b100-4134-ba00-df9a71552198",
   "metadata": {},
   "source": [
    "#print statement"
   ]
  },
  {
   "cell_type": "code",
   "execution_count": 5,
   "id": "d19b7df9-dd44-413d-8193-90b42797712c",
   "metadata": {},
   "outputs": [
    {
     "name": "stdout",
     "output_type": "stream",
     "text": [
      "Welcome to Assignment-1\n"
     ]
    }
   ],
   "source": [
    "print(\"Welcome to Assignment-1\")"
   ]
  },
  {
   "cell_type": "markdown",
   "id": "9b2b1042-ee42-4b62-8ba4-094f4629f919",
   "metadata": {},
   "source": [
    "#Addition"
   ]
  },
  {
   "cell_type": "code",
   "execution_count": 23,
   "id": "f66dcfd7-689e-4e7e-b4dd-ae96e26365b9",
   "metadata": {},
   "outputs": [
    {
     "name": "stdin",
     "output_type": "stream",
     "text": [
      "Num1 = 10\n",
      "Num2 = 30\n"
     ]
    },
    {
     "name": "stdout",
     "output_type": "stream",
     "text": [
      "Add =  40\n"
     ]
    }
   ],
   "source": [
    "Num1 = int(input(\"Num1 =\"))\n",
    "Num2 = int(input(\"Num2 =\"))\n",
    "Add = Num1 + Num2\n",
    "print(\"Add = \", Add)"
   ]
  },
  {
   "cell_type": "markdown",
   "id": "c5d350b8-5f1b-4848-9bda-4bf6281b8c8c",
   "metadata": {},
   "source": [
    "#Body Mass Index"
   ]
  },
  {
   "cell_type": "code",
   "execution_count": 27,
   "id": "2ef6a58c-44b4-415c-980c-793e04f21275",
   "metadata": {},
   "outputs": [
    {
     "name": "stdin",
     "output_type": "stream",
     "text": [
      "Enter the BMI Index: 34\n"
     ]
    },
    {
     "name": "stdout",
     "output_type": "stream",
     "text": [
      "Very Overweight\n"
     ]
    }
   ],
   "source": [
    "bmi = float(input(\"Enter the BMI Index:\"))\n",
    "if (bmi < 18.5):\n",
    "    print(\"Underweight\")\n",
    "elif (bmi < 25.0):\n",
    "    print(\"Normal weight\")\n",
    "elif (bmi < 30.0):\n",
    "    print(\"Overweight\")\n",
    "else:\n",
    "    print(\"Very Overweight\")"
   ]
  },
  {
   "cell_type": "code",
   "execution_count": null,
   "id": "27cbc8df-a534-4243-b1aa-fa3fca9f5231",
   "metadata": {},
   "outputs": [],
   "source": []
  }
 ],
 "metadata": {
  "kernelspec": {
   "display_name": "Python 3 (ipykernel)",
   "language": "python",
   "name": "python3"
  },
  "language_info": {
   "codemirror_mode": {
    "name": "ipython",
    "version": 3
   },
   "file_extension": ".py",
   "mimetype": "text/x-python",
   "name": "python",
   "nbconvert_exporter": "python",
   "pygments_lexer": "ipython3",
   "version": "3.12.4"
  }
 },
 "nbformat": 4,
 "nbformat_minor": 5
}
