{
 "cells": [
  {
   "cell_type": "code",
   "execution_count": 3,
   "id": "eedd2384-ba2e-45e4-ad82-9165e6866fbc",
   "metadata": {},
   "outputs": [],
   "source": [
    "#Load the Linear Regression model\n",
    "import pickle\n",
    "linear_model=pickle.load(open(\"linear_model.sav\",\"rb\"))\n"
   ]
  },
  {
   "cell_type": "code",
   "execution_count": 13,
   "id": "b895907e-32ce-4e36-a253-0cccd0f14512",
   "metadata": {},
   "outputs": [
    {
     "name": "stdin",
     "output_type": "stream",
     "text": [
      "Enter the Years of Experience to predict the Salary 20\n"
     ]
    },
    {
     "name": "stdout",
     "output_type": "stream",
     "text": [
      "Salary for the 20 year of experience is 222084.53472752252\n"
     ]
    },
    {
     "name": "stderr",
     "output_type": "stream",
     "text": [
      "C:\\ProgramData\\anaconda3\\Lib\\site-packages\\sklearn\\base.py:493: UserWarning: X does not have valid feature names, but LinearRegression was fitted with feature names\n",
      "  warnings.warn(\n"
     ]
    }
   ],
   "source": [
    "#Get the user input to predict the data\n",
    "intExperience = int(input(\"Enter the Years of Experience to predict the Salary:\"))\n",
    "salary = linear_model.predict([[intExperience]])\n",
    "print(f\"Salary for the {intExperience} year of experience is {salary[0][0]}\")"
   ]
  },
  {
   "cell_type": "code",
   "execution_count": 17,
   "id": "31c7579e-88c1-4472-b7f1-f6ef9cb54bf4",
   "metadata": {},
   "outputs": [],
   "source": [
    "#Load the Multilinear Regression model\n",
    "multilinear_model=pickle.load(open(\"Multilinear_model.sav\",\"rb\"))"
   ]
  },
  {
   "cell_type": "code",
   "execution_count": 23,
   "id": "260e312f-e2e8-4925-8023-abbd1c1ea2ba",
   "metadata": {},
   "outputs": [
    {
     "name": "stdin",
     "output_type": "stream",
     "text": [
      "Enter R&D Spend: 20000\n",
      "Enter Administration Spend: 20000\n",
      "Enter Marketing Spend: 20000\n",
      "Enter either one of the state California or Florida or New York: Florida\n"
     ]
    },
    {
     "name": "stdout",
     "output_type": "stream",
     "text": [
      "Result profit is 72705.64876835974\n"
     ]
    },
    {
     "name": "stderr",
     "output_type": "stream",
     "text": [
      "C:\\ProgramData\\anaconda3\\Lib\\site-packages\\sklearn\\base.py:493: UserWarning: X does not have valid feature names, but LinearRegression was fitted with feature names\n",
      "  warnings.warn(\n"
     ]
    }
   ],
   "source": [
    "#Get the user input to predict the data\n",
    "RandD = float(input(\"Enter R&D Spend:\"))\n",
    "Admin = float(input(\"Enter Administration Spend:\"))\n",
    "Market = float(input(\"Enter Marketing Spend:\"))\n",
    "State = input(\"Enter either one of the state California or Florida or New York:\")\n",
    "StateFlorida = StateNewYork = 0\n",
    "if State == \"Florida\":\n",
    "    StateFlorida = 1\n",
    "elif State == \"New York\":\n",
    "    StateNewYork = 1\n",
    "profit = multilinear_model.predict([[RandD, Admin, Market, StateFlorida, StateNewYork]])\n",
    "print(f\"Result profit is {profit[0][0]}\")"
   ]
  },
  {
   "cell_type": "code",
   "execution_count": null,
   "id": "f6b6606e-315f-415b-a430-c9d1396bf1c9",
   "metadata": {},
   "outputs": [],
   "source": []
  }
 ],
 "metadata": {
  "kernelspec": {
   "display_name": "Python 3 (ipykernel)",
   "language": "python",
   "name": "python3"
  },
  "language_info": {
   "codemirror_mode": {
    "name": "ipython",
    "version": 3
   },
   "file_extension": ".py",
   "mimetype": "text/x-python",
   "name": "python",
   "nbconvert_exporter": "python",
   "pygments_lexer": "ipython3",
   "version": "3.12.4"
  }
 },
 "nbformat": 4,
 "nbformat_minor": 5
}
